{
  "nbformat": 4,
  "nbformat_minor": 0,
  "metadata": {
    "colab": {
      "provenance": []
    },
    "kernelspec": {
      "name": "python3",
      "display_name": "Python 3"
    },
    "language_info": {
      "name": "python"
    }
  },
  "cells": [
    {
      "cell_type": "code",
      "source": [
        "!pip install twelvelabs\n",
        "!python -m pip install requests"
      ],
      "metadata": {
        "colab": {
          "base_uri": "https://localhost:8080/"
        },
        "id": "XuVtxvWTQ_3U",
        "outputId": "8bb53ce6-44f5-4683-8a6e-10623cbf4017"
      },
      "execution_count": 1,
      "outputs": [
        {
          "output_type": "stream",
          "name": "stdout",
          "text": [
            "Collecting twelvelabs\n",
            "  Downloading twelvelabs-0.2.6-py3-none-any.whl.metadata (16 kB)\n",
            "Collecting pydantic==2.4.2 (from twelvelabs)\n",
            "  Downloading pydantic-2.4.2-py3-none-any.whl.metadata (158 kB)\n",
            "\u001b[2K     \u001b[90m━━━━━━━━━━━━━━━━━━━━━━━━━━━━━━━━━━━━━━━━\u001b[0m \u001b[32m158.6/158.6 kB\u001b[0m \u001b[31m3.7 MB/s\u001b[0m eta \u001b[36m0:00:00\u001b[0m\n",
            "\u001b[?25hCollecting httpx==0.25.2 (from twelvelabs)\n",
            "  Downloading httpx-0.25.2-py3-none-any.whl.metadata (6.9 kB)\n",
            "Requirement already satisfied: anyio in /usr/local/lib/python3.10/dist-packages (from httpx==0.25.2->twelvelabs) (3.7.1)\n",
            "Requirement already satisfied: certifi in /usr/local/lib/python3.10/dist-packages (from httpx==0.25.2->twelvelabs) (2024.7.4)\n",
            "Collecting httpcore==1.* (from httpx==0.25.2->twelvelabs)\n",
            "  Downloading httpcore-1.0.5-py3-none-any.whl.metadata (20 kB)\n",
            "Requirement already satisfied: idna in /usr/local/lib/python3.10/dist-packages (from httpx==0.25.2->twelvelabs) (3.8)\n",
            "Requirement already satisfied: sniffio in /usr/local/lib/python3.10/dist-packages (from httpx==0.25.2->twelvelabs) (1.3.1)\n",
            "Requirement already satisfied: annotated-types>=0.4.0 in /usr/local/lib/python3.10/dist-packages (from pydantic==2.4.2->twelvelabs) (0.7.0)\n",
            "Collecting pydantic-core==2.10.1 (from pydantic==2.4.2->twelvelabs)\n",
            "  Downloading pydantic_core-2.10.1-cp310-cp310-manylinux_2_17_x86_64.manylinux2014_x86_64.whl.metadata (6.5 kB)\n",
            "Requirement already satisfied: typing-extensions>=4.6.1 in /usr/local/lib/python3.10/dist-packages (from pydantic==2.4.2->twelvelabs) (4.12.2)\n",
            "Collecting h11<0.15,>=0.13 (from httpcore==1.*->httpx==0.25.2->twelvelabs)\n",
            "  Downloading h11-0.14.0-py3-none-any.whl.metadata (8.2 kB)\n",
            "Requirement already satisfied: exceptiongroup in /usr/local/lib/python3.10/dist-packages (from anyio->httpx==0.25.2->twelvelabs) (1.2.2)\n",
            "Downloading twelvelabs-0.2.6-py3-none-any.whl (33 kB)\n",
            "Downloading httpx-0.25.2-py3-none-any.whl (74 kB)\n",
            "\u001b[2K   \u001b[90m━━━━━━━━━━━━━━━━━━━━━━━━━━━━━━━━━━━━━━━━\u001b[0m \u001b[32m75.0/75.0 kB\u001b[0m \u001b[31m4.6 MB/s\u001b[0m eta \u001b[36m0:00:00\u001b[0m\n",
            "\u001b[?25hDownloading pydantic-2.4.2-py3-none-any.whl (395 kB)\n",
            "\u001b[2K   \u001b[90m━━━━━━━━━━━━━━━━━━━━━━━━━━━━━━━━━━━━━━━━\u001b[0m \u001b[32m395.8/395.8 kB\u001b[0m \u001b[31m19.2 MB/s\u001b[0m eta \u001b[36m0:00:00\u001b[0m\n",
            "\u001b[?25hDownloading httpcore-1.0.5-py3-none-any.whl (77 kB)\n",
            "\u001b[2K   \u001b[90m━━━━━━━━━━━━━━━━━━━━━━━━━━━━━━━━━━━━━━━━\u001b[0m \u001b[32m77.9/77.9 kB\u001b[0m \u001b[31m4.6 MB/s\u001b[0m eta \u001b[36m0:00:00\u001b[0m\n",
            "\u001b[?25hDownloading pydantic_core-2.10.1-cp310-cp310-manylinux_2_17_x86_64.manylinux2014_x86_64.whl (2.0 MB)\n",
            "\u001b[2K   \u001b[90m━━━━━━━━━━━━━━━━━━━━━━━━━━━━━━━━━━━━━━━━\u001b[0m \u001b[32m2.0/2.0 MB\u001b[0m \u001b[31m47.3 MB/s\u001b[0m eta \u001b[36m0:00:00\u001b[0m\n",
            "\u001b[?25hDownloading h11-0.14.0-py3-none-any.whl (58 kB)\n",
            "\u001b[2K   \u001b[90m━━━━━━━━━━━━━━━━━━━━━━━━━━━━━━━━━━━━━━━━\u001b[0m \u001b[32m58.3/58.3 kB\u001b[0m \u001b[31m3.3 MB/s\u001b[0m eta \u001b[36m0:00:00\u001b[0m\n",
            "\u001b[?25hInstalling collected packages: pydantic-core, h11, pydantic, httpcore, httpx, twelvelabs\n",
            "  Attempting uninstall: pydantic-core\n",
            "    Found existing installation: pydantic_core 2.20.1\n",
            "    Uninstalling pydantic_core-2.20.1:\n",
            "      Successfully uninstalled pydantic_core-2.20.1\n",
            "  Attempting uninstall: pydantic\n",
            "    Found existing installation: pydantic 2.8.2\n",
            "    Uninstalling pydantic-2.8.2:\n",
            "      Successfully uninstalled pydantic-2.8.2\n",
            "\u001b[31mERROR: pip's dependency resolver does not currently take into account all the packages that are installed. This behaviour is the source of the following dependency conflicts.\n",
            "albumentations 1.4.14 requires pydantic>=2.7.0, but you have pydantic 2.4.2 which is incompatible.\u001b[0m\u001b[31m\n",
            "\u001b[0mSuccessfully installed h11-0.14.0 httpcore-1.0.5 httpx-0.25.2 pydantic-2.4.2 pydantic-core-2.10.1 twelvelabs-0.2.6\n",
            "Requirement already satisfied: requests in /usr/local/lib/python3.10/dist-packages (2.32.3)\n",
            "Requirement already satisfied: charset-normalizer<4,>=2 in /usr/local/lib/python3.10/dist-packages (from requests) (3.3.2)\n",
            "Requirement already satisfied: idna<4,>=2.5 in /usr/local/lib/python3.10/dist-packages (from requests) (3.8)\n",
            "Requirement already satisfied: urllib3<3,>=1.21.1 in /usr/local/lib/python3.10/dist-packages (from requests) (2.0.7)\n",
            "Requirement already satisfied: certifi>=2017.4.17 in /usr/local/lib/python3.10/dist-packages (from requests) (2024.7.4)\n"
          ]
        }
      ]
    },
    {
      "cell_type": "code",
      "execution_count": 7,
      "metadata": {
        "id": "99jENuxECUfj"
      },
      "outputs": [],
      "source": [
        "from twelvelabs import TwelveLabs\n",
        "import requests\n",
        "import os\n",
        "\n",
        "\n",
        "API_KEY=\"<Your_API_KEY>\"\n",
        "client = TwelveLabs(api_key=API_KEY)"
      ]
    },
    {
      "cell_type": "code",
      "source": [
        "headers = {\n",
        "    \"x-api-key\": API_KEY\n",
        "}\n",
        "INDEXES_URL = \"https://api.twelvelabs.io/v1.2/indexes\"\n"
      ],
      "metadata": {
        "id": "beOCQEPMCu7I"
      },
      "execution_count": 8,
      "outputs": []
    },
    {
      "cell_type": "code",
      "source": [
        "engines = [\n",
        "        {\n",
        "            \"name\": \"pegasus1.1\",\n",
        "            \"options\": [\"visual\", \"conversation\"]\n",
        "        },\n",
        "        {\n",
        "          \"name\": \"marengo2.6\",\n",
        "          \"options\": [\"visual\", \"conversation\", \"text_in_video\", \"logo\"]\n",
        "        }\n",
        "    ]"
      ],
      "metadata": {
        "id": "c0vgd6o0SEOp"
      },
      "execution_count": 9,
      "outputs": []
    },
    {
      "cell_type": "code",
      "source": [
        "index = client.index.create(\n",
        "    name=\"<Your_INDEX_NAME>\",\n",
        "    engines=engines,\n",
        "    addons=[\"thumbnail\"]\n",
        ")\n",
        "print(f\"A new index has been created: id={index.id} name={index.name} engines={index.engines}\")"
      ],
      "metadata": {
        "colab": {
          "base_uri": "https://localhost:8080/"
        },
        "id": "RzOFcGEWSGOn",
        "outputId": "65188a66-3890-4511-d661-330ba0c777a5"
      },
      "execution_count": 10,
      "outputs": [
        {
          "output_type": "stream",
          "name": "stdout",
          "text": [
            "A new index has been created: id=66d1fe376ad04622c0a62b70 name=Index_new engines=root=[Engine(name='pegasus1.1', options=['visual', 'conversation'], addons=None), Engine(name='marengo2.6', options=['visual', 'conversation', 'text_in_video', 'logo'], addons=None)]\n"
          ]
        }
      ]
    },
    {
      "cell_type": "code",
      "source": [
        "from twelvelabs import TwelveLabs\n",
        "from twelvelabs.models.task import Task"
      ],
      "metadata": {
        "id": "GzxhEN3-SbeF"
      },
      "execution_count": 11,
      "outputs": []
    },
    {
      "cell_type": "code",
      "source": [
        "task = client.task.create(\n",
        "  index_id=index.id,\n",
        "  file=\"<VIDEO_FILE_LOCATION>\",\n",
        ")\n",
        "print(f\"Task id={task.id}\")"
      ],
      "metadata": {
        "colab": {
          "base_uri": "https://localhost:8080/"
        },
        "id": "hucuxK05VFwF",
        "outputId": "99acb139-c268-463d-8191-e274592588ca"
      },
      "execution_count": 12,
      "outputs": [
        {
          "output_type": "stream",
          "name": "stdout",
          "text": [
            "Task id=66d1ff03cbc7a71fd2ae5583\n"
          ]
        }
      ]
    },
    {
      "cell_type": "code",
      "source": [
        "# Utility function to print the status of a video indexing task\n",
        "def on_task_update(task: Task):\n",
        "      print(f\"  Status={task.status}\")\n",
        "\n",
        "task.wait_for_done(sleep_interval=5, callback=on_task_update)\n",
        "\n",
        "if task.status != \"ready\":\n",
        "  raise RuntimeError(f\"Indexing failed with status {task.status}\")\n",
        "print(f\"The unique identifer of your video is {task.video_id}.\")"
      ],
      "metadata": {
        "colab": {
          "base_uri": "https://localhost:8080/"
        },
        "id": "8dRZYICOWS6Q",
        "outputId": "39be611d-b3f4-48da-85aa-d943d202130b"
      },
      "execution_count": 13,
      "outputs": [
        {
          "output_type": "stream",
          "name": "stdout",
          "text": [
            "  Status=pending\n",
            "  Status=pending\n",
            "  Status=pending\n",
            "  Status=pending\n",
            "  Status=pending\n",
            "  Status=pending\n",
            "  Status=pending\n",
            "  Status=pending\n",
            "  Status=pending\n",
            "  Status=pending\n",
            "  Status=pending\n",
            "  Status=pending\n",
            "  Status=pending\n",
            "  Status=pending\n",
            "  Status=pending\n",
            "  Status=pending\n",
            "  Status=pending\n",
            "  Status=pending\n",
            "  Status=indexing\n",
            "  Status=indexing\n",
            "  Status=indexing\n",
            "  Status=indexing\n",
            "  Status=indexing\n",
            "  Status=indexing\n",
            "  Status=indexing\n",
            "  Status=indexing\n",
            "  Status=indexing\n",
            "  Status=indexing\n",
            "  Status=indexing\n",
            "  Status=indexing\n",
            "  Status=indexing\n",
            "  Status=indexing\n",
            "  Status=indexing\n",
            "  Status=indexing\n",
            "  Status=indexing\n",
            "  Status=ready\n",
            "The unique identifer of your video is 66d1ff03d4f452b062c61ff3.\n"
          ]
        }
      ]
    },
    {
      "cell_type": "code",
      "source": [
        "gist = client.generate.gist(\n",
        "  video_id=task.video_id,\n",
        "  types=[\"title\",\"topic\",\"hashtag\"]\n",
        ")\n",
        "print(f\"Title={gist.title}\\nTopic={gist.topics}\\nHashtags={gist.hashtags}\")\n"
      ],
      "metadata": {
        "colab": {
          "base_uri": "https://localhost:8080/"
        },
        "id": "SMa0UoVqV6Qi",
        "outputId": "5eda0414-4293-4daa-828a-d1538db1f18e"
      },
      "execution_count": 14,
      "outputs": [
        {
          "output_type": "stream",
          "name": "stdout",
          "text": [
            "Title=\"Finding Solace in Rhythm: A Drummer's Journey Through Isolation\"\n",
            "Topic=root=[\"Drummer's Intense Practice Session in a Kitchen\"]\n",
            "Hashtags=root=['drums', 'music', 'kitchen', 'pandemic', 'relaxation', 'intensity', 'routine']\n"
          ]
        }
      ]
    },
    {
      "cell_type": "code",
      "source": [
        "gist_r = client.generate.text(\n",
        "  video_id=task.video_id,\n",
        "  prompt=\"I want to generate a description for my video with the following format: Title of the video, followed by a summary in 2-3 sentences, highlighting the main topics.\"\n",
        ")\n",
        "print(gist_r.data)"
      ],
      "metadata": {
        "colab": {
          "base_uri": "https://localhost:8080/"
        },
        "id": "3jDY90WmgqLS",
        "outputId": "0f93cf62-ee92-4857-cadb-067850d725e4"
      },
      "execution_count": 17,
      "outputs": [
        {
          "output_type": "stream",
          "name": "stdout",
          "text": [
            "**Title:** \"Kitchen Rhythms\"\n",
            "\n",
            "**Summary:** The video begins with a close-up of a microwave in a kitchen, transitioning to a man sitting at a table, smoking and drinking. As time progresses, he starts playing the drums with varying intensity, showcasing his passion and skill. The video captures the man's rhythmic journey, contrasting moments of stillness with energetic drumming.\n"
          ]
        }
      ]
    },
    {
      "cell_type": "code",
      "source": [],
      "metadata": {
        "id": "GKXVs4_kUKGR"
      },
      "execution_count": null,
      "outputs": []
    }
  ]
}